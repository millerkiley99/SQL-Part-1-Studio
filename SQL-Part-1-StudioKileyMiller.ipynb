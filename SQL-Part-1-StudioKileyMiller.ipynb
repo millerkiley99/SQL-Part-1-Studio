{
    "metadata": {
        "kernelspec": {
            "name": "SQL",
            "display_name": "SQL",
            "language": "sql"
        },
        "language_info": {
            "name": "sql",
            "version": ""
        },
        "extensions": {
            "azuredatastudio": {
                "version": 1,
                "views": []
            }
        }
    },
    "nbformat_minor": 2,
    "nbformat": 4,
    "cells": [
        {
            "cell_type": "markdown",
            "source": [
                "# SQL Part 1 Studio\n",
                "\n",
                "### Let's practice your SQL quering skills!  For each question, work along in the notebook adding your query and answering the questions. \n",
                "\n",
                "### **DataSet**\n",
                "\n",
                "### <span style=\"font-size: 14px; font-family: -apple-system, BlinkMacSystemFont, sans-serif;\">We will be using the Goodbooks-10k dataset from the exercises in the prep work.&nbsp; Feel free to reference your notebook.</span>\n",
                "\n",
                "- The dataset can be found here: [goodbooks-10k](https://www.kaggle.com/zygmunt/goodbooks-10k)\n",
                "- You can access the **BooksDB** in the Launchcode server.\n",
                "\n",
                "### **Business Issue**\n",
                "\n",
                "You work for a small independant book store and you want to increase sales by running various promotions.  Start by becoming more familar with the BooksDB."
            ],
            "metadata": {
                "azdata_cell_guid": "b9034d8a-b631-48bf-a895-1012a6ffa784"
            }
        },
        {
            "cell_type": "markdown",
            "source": [
                "## Part 1. BooksDB Questions\n",
                "\n",
                "<span style=\"color: rgba(0, 0, 0, 0.87); font-family: -apple-system, system-ui, &quot;Segoe UI&quot;, Helvetica, Arial, sans-serif, &quot;Apple Color Emoji&quot;, &quot;Segoe UI Emoji&quot;, &quot;Segoe UI Symbol&quot;; background-color: rgb(255, 255, 255);\">Question 1:&nbsp; Write a query of the books table, returning the TOP 100 results and&nbsp; includes, book_id, authors, title, average_rating.&nbsp; Use an alias for at least one column and in descending order of rating.&nbsp; What is the number one book?</span>"
            ],
            "metadata": {
                "azdata_cell_guid": "6e55eb1c-4a14-4076-90d2-95ed17a6309f",
                "tags": [
                    "hide_input"
                ]
            },
            "attachments": {}
        },
        {
            "cell_type": "code",
            "source": [
                "-- return top 100 results/ used top 10 per Lonette\n",
                "SELECT TOP 10 book_id AS ID, authors, title, average_rating\n",
                "FROM BooksDB.dbo.books\n",
                "ORDER BY average_rating DESC"
            ],
            "metadata": {
                "azdata_cell_guid": "470b0ca4-9a32-4b46-a42e-bbb645101769",
                "tags": [],
                "language": "sql"
            },
            "outputs": [
                {
                    "output_type": "display_data",
                    "data": {
                        "text/html": "(10 rows affected)"
                    },
                    "metadata": {}
                },
                {
                    "output_type": "display_data",
                    "data": {
                        "text/html": "Total execution time: 00:00:00.059"
                    },
                    "metadata": {}
                },
                {
                    "output_type": "execute_result",
                    "metadata": {},
                    "execution_count": 3,
                    "data": {
                        "application/vnd.dataresource+json": {
                            "schema": {
                                "fields": [
                                    {
                                        "name": "ID"
                                    },
                                    {
                                        "name": "authors"
                                    },
                                    {
                                        "name": "title"
                                    },
                                    {
                                        "name": "average_rating"
                                    }
                                ]
                            },
                            "data": [
                                {
                                    "0": "24812",
                                    "1": "Bill Watterson",
                                    "2": "The Complete Calvin and Hobbes",
                                    "3": "4.82"
                                },
                                {
                                    "0": "17332218",
                                    "1": "Brandon Sanderson",
                                    "2": "Words of Radiance (The Stormlight Archive, #2)",
                                    "3": "4.77"
                                },
                                {
                                    "0": "8",
                                    "1": "J.K. Rowling, Mary GrandPré",
                                    "2": "Harry Potter Boxed Set, Books 1-5 (Harry Potter, #1-5)",
                                    "3": "4.77"
                                },
                                {
                                    "0": "5031805",
                                    "1": "Anonymous, Lane T. Dennis, Wayne A. Grudem",
                                    "2": "ESV Study Bible",
                                    "3": "4.76"
                                },
                                {
                                    "0": "95602",
                                    "1": "Francine Rivers",
                                    "2": "Mark of the Lion Trilogy",
                                    "3": "4.76"
                                },
                                {
                                    "0": "24814",
                                    "1": "Bill Watterson",
                                    "2": "It's a Magical World: A Calvin and Hobbes Collection",
                                    "3": "4.75"
                                },
                                {
                                    "0": "862041",
                                    "1": "J.K. Rowling",
                                    "2": "Harry Potter Boxset (Harry Potter, #1-7)",
                                    "3": "4.74"
                                },
                                {
                                    "0": "70489",
                                    "1": "Bill Watterson",
                                    "2": "There's Treasure Everywhere: A Calvin and Hobbes Collection",
                                    "3": "4.74"
                                },
                                {
                                    "0": "10",
                                    "1": "J.K. Rowling",
                                    "2": "Harry Potter Collection (Harry Potter, #1-6)",
                                    "3": "4.73"
                                },
                                {
                                    "0": "59715",
                                    "1": "Bill Watterson",
                                    "2": "The Authoritative Calvin and Hobbes: A Calvin and Hobbes Treasury",
                                    "3": "4.73"
                                }
                            ]
                        },
                        "text/html": [
                            "<table>",
                            "<tr><th>ID</th><th>authors</th><th>title</th><th>average_rating</th></tr>",
                            "<tr><td>24812</td><td>Bill Watterson</td><td>The Complete Calvin and Hobbes</td><td>4.82</td></tr>",
                            "<tr><td>17332218</td><td>Brandon Sanderson</td><td>Words of Radiance (The Stormlight Archive, #2)</td><td>4.77</td></tr>",
                            "<tr><td>8</td><td>J.K. Rowling, Mary GrandPré</td><td>Harry Potter Boxed Set, Books 1-5 (Harry Potter, #1-5)</td><td>4.77</td></tr>",
                            "<tr><td>5031805</td><td>Anonymous, Lane T. Dennis, Wayne A. Grudem</td><td>ESV Study Bible</td><td>4.76</td></tr>",
                            "<tr><td>95602</td><td>Francine Rivers</td><td>Mark of the Lion Trilogy</td><td>4.76</td></tr>",
                            "<tr><td>24814</td><td>Bill Watterson</td><td>It's a Magical World: A Calvin and Hobbes Collection</td><td>4.75</td></tr>",
                            "<tr><td>862041</td><td>J.K. Rowling</td><td>Harry Potter Boxset (Harry Potter, #1-7)</td><td>4.74</td></tr>",
                            "<tr><td>70489</td><td>Bill Watterson</td><td>There's Treasure Everywhere: A Calvin and Hobbes Collection</td><td>4.74</td></tr>",
                            "<tr><td>10</td><td>J.K. Rowling</td><td>Harry Potter Collection (Harry Potter, #1-6)</td><td>4.73</td></tr>",
                            "<tr><td>59715</td><td>Bill Watterson</td><td>The Authoritative Calvin and Hobbes: A Calvin and Hobbes Treasury</td><td>4.73</td></tr>",
                            "</table>"
                        ]
                    }
                }
            ],
            "execution_count": 3
        },
        {
            "cell_type": "markdown",
            "source": [
                "Question 2: Write a query to find the least popular book."
            ],
            "metadata": {
                "azdata_cell_guid": "777429b8-8622-489d-9c49-e2acecd7f17e"
            },
            "attachments": {}
        },
        {
            "cell_type": "code",
            "source": [
                "-- return least popular book\n",
                "SELECT TOP 10 book_id AS ID, authors, title, average_rating\n",
                "FROM BooksDB.dbo.books\n",
                "ORDER BY average_rating ASC"
            ],
            "metadata": {
                "azdata_cell_guid": "c78a1779-db74-470f-a60a-7c72a43d774b",
                "language": "sql",
                "tags": []
            },
            "outputs": [
                {
                    "output_type": "display_data",
                    "data": {
                        "text/html": "(10 rows affected)"
                    },
                    "metadata": {}
                },
                {
                    "output_type": "display_data",
                    "data": {
                        "text/html": "Total execution time: 00:00:00.064"
                    },
                    "metadata": {}
                },
                {
                    "output_type": "execute_result",
                    "metadata": {},
                    "execution_count": 4,
                    "data": {
                        "application/vnd.dataresource+json": {
                            "schema": {
                                "fields": [
                                    {
                                        "name": "ID"
                                    },
                                    {
                                        "name": "authors"
                                    },
                                    {
                                        "name": "title"
                                    },
                                    {
                                        "name": "average_rating"
                                    }
                                ]
                            },
                            "data": [
                                {
                                    "0": "105578",
                                    "1": "Chetan Bhagat",
                                    "2": "One Night at the Call Center",
                                    "3": "2.47"
                                },
                                {
                                    "0": "783291",
                                    "1": "Alice Sebold",
                                    "2": "The Almost Moon",
                                    "3": "2.67"
                                },
                                {
                                    "0": "8664368",
                                    "1": "Howard Jacobson",
                                    "2": "The Finkler Question",
                                    "3": "2.76"
                                },
                                {
                                    "0": "6613",
                                    "1": "Candace Bushnell",
                                    "2": "Four Blondes",
                                    "3": "2.8"
                                },
                                {
                                    "0": "24929",
                                    "1": "Gregory Maguire, Douglas Smith",
                                    "2": "Lost",
                                    "3": "2.8"
                                },
                                {
                                    "0": "16130307",
                                    "1": "Lauren Weisberger",
                                    "2": "Revenge Wears Prada: The Devil Returns (The Devil Wears Prada, #2)",
                                    "3": "2.84"
                                },
                                {
                                    "0": "23503361",
                                    "1": "Julia Pierpont",
                                    "2": "Among the Ten Thousand Things",
                                    "3": "2.84"
                                },
                                {
                                    "0": "6855294",
                                    "1": "Chuck Palahniuk",
                                    "2": "Tell-All",
                                    "3": "2.84"
                                },
                                {
                                    "0": "3648",
                                    "1": "Claire Messud",
                                    "2": "The Emperor's Children",
                                    "3": "2.93"
                                },
                                {
                                    "0": "12878667",
                                    "1": "Mark Haddon",
                                    "2": "The Red House",
                                    "3": "2.93"
                                }
                            ]
                        },
                        "text/html": [
                            "<table>",
                            "<tr><th>ID</th><th>authors</th><th>title</th><th>average_rating</th></tr>",
                            "<tr><td>105578</td><td>Chetan Bhagat</td><td>One Night at the Call Center</td><td>2.47</td></tr>",
                            "<tr><td>783291</td><td>Alice Sebold</td><td>The Almost Moon</td><td>2.67</td></tr>",
                            "<tr><td>8664368</td><td>Howard Jacobson</td><td>The Finkler Question</td><td>2.76</td></tr>",
                            "<tr><td>6613</td><td>Candace Bushnell</td><td>Four Blondes</td><td>2.8</td></tr>",
                            "<tr><td>24929</td><td>Gregory Maguire, Douglas Smith</td><td>Lost</td><td>2.8</td></tr>",
                            "<tr><td>16130307</td><td>Lauren Weisberger</td><td>Revenge Wears Prada: The Devil Returns (The Devil Wears Prada, #2)</td><td>2.84</td></tr>",
                            "<tr><td>23503361</td><td>Julia Pierpont</td><td>Among the Ten Thousand Things</td><td>2.84</td></tr>",
                            "<tr><td>6855294</td><td>Chuck Palahniuk</td><td>Tell-All</td><td>2.84</td></tr>",
                            "<tr><td>3648</td><td>Claire Messud</td><td>The Emperor's Children</td><td>2.93</td></tr>",
                            "<tr><td>12878667</td><td>Mark Haddon</td><td>The Red House</td><td>2.93</td></tr>",
                            "</table>"
                        ]
                    }
                }
            ],
            "execution_count": 4
        },
        {
            "cell_type": "markdown",
            "source": [
                "Question 3: Which tag is the most popular?"
            ],
            "metadata": {
                "azdata_cell_guid": "a370909d-5d64-49e2-8fec-5220730c8ca7"
            },
            "attachments": {}
        },
        {
            "cell_type": "code",
            "source": [
                "-- return most popular tag\n",
                "SELECT TOP 5 *\n",
                "FROM BooksDB.dbo.book_tags \n",
                "ORDER BY count DESC"
            ],
            "metadata": {
                "azdata_cell_guid": "9e0451dc-c4d3-4775-9eb1-904854f459ff",
                "tags": [],
                "language": "sql"
            },
            "outputs": [
                {
                    "output_type": "display_data",
                    "data": {
                        "text/html": "(5 rows affected)"
                    },
                    "metadata": {}
                },
                {
                    "output_type": "display_data",
                    "data": {
                        "text/html": "Total execution time: 00:00:00.398"
                    },
                    "metadata": {}
                },
                {
                    "output_type": "execute_result",
                    "metadata": {},
                    "execution_count": 36,
                    "data": {
                        "application/vnd.dataresource+json": {
                            "schema": {
                                "fields": [
                                    {
                                        "name": "goodreads_book_id"
                                    },
                                    {
                                        "name": "tag_id"
                                    },
                                    {
                                        "name": "count"
                                    }
                                ]
                            },
                            "data": [
                                {
                                    "0": "865",
                                    "1": "30574",
                                    "2": "596234"
                                },
                                {
                                    "0": "2429135",
                                    "1": "30574",
                                    "2": "586235"
                                },
                                {
                                    "0": "18143977",
                                    "1": "30574",
                                    "2": "505884"
                                },
                                {
                                    "0": "3",
                                    "1": "30574",
                                    "2": "496107"
                                },
                                {
                                    "0": "24280",
                                    "1": "30574",
                                    "2": "488469"
                                }
                            ]
                        },
                        "text/html": [
                            "<table>",
                            "<tr><th>goodreads_book_id</th><th>tag_id</th><th>count</th></tr>",
                            "<tr><td>865</td><td>30574</td><td>596234</td></tr>",
                            "<tr><td>2429135</td><td>30574</td><td>586235</td></tr>",
                            "<tr><td>18143977</td><td>30574</td><td>505884</td></tr>",
                            "<tr><td>3</td><td>30574</td><td>496107</td></tr>",
                            "<tr><td>24280</td><td>30574</td><td>488469</td></tr>",
                            "</table>"
                        ]
                    }
                }
            ],
            "execution_count": 36
        },
        {
            "cell_type": "markdown",
            "source": [
                "Question 4: What is the name of the most popular tag?"
            ],
            "metadata": {
                "azdata_cell_guid": "3cdfa7e6-c5a6-49fb-aa27-afeece881627"
            },
            "attachments": {}
        },
        {
            "cell_type": "code",
            "source": [
                "SELECT TOP 1 *\n",
                "FROM BooksDB.dbo.book_tags \n",
                "ORDER BY count DESC"
            ],
            "metadata": {
                "azdata_cell_guid": "5b9c5dda-defa-4bea-804b-b1ab11d73111",
                "language": "sql"
            },
            "outputs": [
                {
                    "output_type": "display_data",
                    "data": {
                        "text/html": "(1 row affected)"
                    },
                    "metadata": {}
                },
                {
                    "output_type": "display_data",
                    "data": {
                        "text/html": "Total execution time: 00:00:00.695"
                    },
                    "metadata": {}
                },
                {
                    "output_type": "execute_result",
                    "metadata": {},
                    "execution_count": 54,
                    "data": {
                        "application/vnd.dataresource+json": {
                            "schema": {
                                "fields": [
                                    {
                                        "name": "goodreads_book_id"
                                    },
                                    {
                                        "name": "tag_id"
                                    },
                                    {
                                        "name": "count"
                                    }
                                ]
                            },
                            "data": [
                                {
                                    "0": "865",
                                    "1": "30574",
                                    "2": "596234"
                                }
                            ]
                        },
                        "text/html": [
                            "<table>",
                            "<tr><th>goodreads_book_id</th><th>tag_id</th><th>count</th></tr>",
                            "<tr><td>865</td><td>30574</td><td>596234</td></tr>",
                            "</table>"
                        ]
                    }
                }
            ],
            "execution_count": 54
        },
        {
            "cell_type": "markdown",
            "source": [
                "Question 5: How many books where released in the first decade of 2000?"
            ],
            "metadata": {
                "azdata_cell_guid": "b3962545-c0c2-47ca-a3c4-299c2c0a4b0c"
            },
            "attachments": {}
        },
        {
            "cell_type": "code",
            "source": [
                "-- return number of books published in the first decade of 2000\n",
                "select COUNT(*) AS 'Number of Books Published 2000-2009'\n",
                "from BooksDB.dbo.books\n",
                "WHERE original_publication_year BETWEEN 2000 AND 2009"
            ],
            "metadata": {
                "azdata_cell_guid": "8dcd65e9-1b3e-4cf8-b726-26729a1225f2",
                "language": "sql",
                "tags": []
            },
            "outputs": [
                {
                    "output_type": "display_data",
                    "data": {
                        "text/html": "(1 row affected)"
                    },
                    "metadata": {}
                },
                {
                    "output_type": "display_data",
                    "data": {
                        "text/html": "Total execution time: 00:00:00.061"
                    },
                    "metadata": {}
                },
                {
                    "output_type": "execute_result",
                    "metadata": {},
                    "execution_count": 59,
                    "data": {
                        "application/vnd.dataresource+json": {
                            "schema": {
                                "fields": [
                                    {
                                        "name": "Number of Books Published 2000-2009"
                                    }
                                ]
                            },
                            "data": [
                                {
                                    "0": "3121"
                                }
                            ]
                        },
                        "text/html": [
                            "<table>",
                            "<tr><th>Number of Books Published 2000-2009</th></tr>",
                            "<tr><td>3121</td></tr>",
                            "</table>"
                        ]
                    }
                }
            ],
            "execution_count": 59
        },
        {
            "cell_type": "markdown",
            "source": [
                "Question 6: How many book titles contain the word Happy?"
            ],
            "metadata": {
                "azdata_cell_guid": "5080d6de-2775-4055-97ae-f93fce97a426"
            },
            "attachments": {}
        },
        {
            "cell_type": "code",
            "source": [
                "-- return number of books that contain the word Happy\n",
                "SELECT COUNT(*) AS 'Number of Books that contain Happy'\n",
                "FROM BooksDB.dbo.books\n",
                "WHERE title LIKE '%Happy%'"
            ],
            "metadata": {
                "azdata_cell_guid": "f55f18b9-91b1-4761-ad8c-4758434d7827",
                "language": "sql"
            },
            "outputs": [
                {
                    "output_type": "display_data",
                    "data": {
                        "text/html": "(1 row affected)"
                    },
                    "metadata": {}
                },
                {
                    "output_type": "display_data",
                    "data": {
                        "text/html": "Total execution time: 00:00:00.094"
                    },
                    "metadata": {}
                },
                {
                    "output_type": "execute_result",
                    "metadata": {},
                    "execution_count": 65,
                    "data": {
                        "application/vnd.dataresource+json": {
                            "schema": {
                                "fields": [
                                    {
                                        "name": "Number of Books that contain Happy"
                                    }
                                ]
                            },
                            "data": [
                                {
                                    "0": "13"
                                }
                            ]
                        },
                        "text/html": [
                            "<table>",
                            "<tr><th>Number of Books that contain Happy</th></tr>",
                            "<tr><td>13</td></tr>",
                            "</table>"
                        ]
                    }
                }
            ],
            "execution_count": 65
        },
        {
            "cell_type": "markdown",
            "source": [
                "Question 7: List the books from the top 3 authors from question 1.  If there is more than one author just use the first one. Sort the titles <span style=\"background-color: rgba(127, 127, 127, 0.1); font-family: -apple-system, BlinkMacSystemFont, sans-serif;\">alphabetically by author and then by average_rating, best rated to lowest. Does order matter in sorting?</span>"
            ],
            "metadata": {
                "azdata_cell_guid": "d38270ef-da5a-42b4-802a-506acb8b9e4b"
            },
            "attachments": {}
        },
        {
            "cell_type": "code",
            "source": [
                "-- return all books from the top 3 authors, sort by author and rating\n",
                "SELECT authors, title, average_rating\n",
                "FROM BooksDB.dbo.books\n",
                "WHERE authors IN ('Bill Watterson', 'Brandon Sanderson', 'J.K. Rowling')\n",
                "ORDER BY authors, average_rating ASC"
            ],
            "metadata": {
                "azdata_cell_guid": "47466fac-5d8d-491d-bd3c-2f8496f55e6b",
                "language": "sql",
                "tags": []
            },
            "outputs": [
                {
                    "output_type": "display_data",
                    "data": {
                        "text/html": "(41 rows affected)"
                    },
                    "metadata": {}
                },
                {
                    "output_type": "display_data",
                    "data": {
                        "text/html": "Total execution time: 00:00:00.072"
                    },
                    "metadata": {}
                },
                {
                    "output_type": "execute_result",
                    "metadata": {},
                    "execution_count": 84,
                    "data": {
                        "application/vnd.dataresource+json": {
                            "schema": {
                                "fields": [
                                    {
                                        "name": "authors"
                                    },
                                    {
                                        "name": "title"
                                    },
                                    {
                                        "name": "average_rating"
                                    }
                                ]
                            },
                            "data": [
                                {
                                    "0": "Bill Watterson",
                                    "1": "The Calvin and Hobbes Tenth Anniversary Book",
                                    "2": "4.63"
                                },
                                {
                                    "0": "Bill Watterson",
                                    "1": "The Essential Calvin and Hobbes: A Calvin and Hobbes Treasury",
                                    "2": "4.65"
                                },
                                {
                                    "0": "Bill Watterson",
                                    "1": "The Calvin and Hobbes Lazy Sunday Book",
                                    "2": "4.66"
                                },
                                {
                                    "0": "Bill Watterson",
                                    "1": "The Days Are Just Packed: A Calvin and Hobbes Collection",
                                    "2": "4.68"
                                },
                                {
                                    "0": "Bill Watterson",
                                    "1": "Homicidal Psycho Jungle Cat: A Calvin and Hobbes Collection",
                                    "2": "4.71"
                                },
                                {
                                    "0": "Bill Watterson",
                                    "1": "The Revenge of the Baby-Sat",
                                    "2": "4.71"
                                },
                                {
                                    "0": "Bill Watterson",
                                    "1": "Attack of the Deranged Mutant Killer Monster Snow Goons",
                                    "2": "4.72"
                                },
                                {
                                    "0": "Bill Watterson",
                                    "1": "The Authoritative Calvin and Hobbes: A Calvin and Hobbes Treasury",
                                    "2": "4.73"
                                },
                                {
                                    "0": "Bill Watterson",
                                    "1": "The Indispensable Calvin and Hobbes",
                                    "2": "4.73"
                                },
                                {
                                    "0": "Bill Watterson",
                                    "1": "There's Treasure Everywhere: A Calvin and Hobbes Collection",
                                    "2": "4.74"
                                },
                                {
                                    "0": "Bill Watterson",
                                    "1": "It's a Magical World: A Calvin and Hobbes Collection",
                                    "2": "4.75"
                                },
                                {
                                    "0": "Bill Watterson",
                                    "1": "The Complete Calvin and Hobbes",
                                    "2": "4.82"
                                },
                                {
                                    "0": "Brandon Sanderson",
                                    "1": "Mitosis (The Reckoners, #1.5)",
                                    "2": "3.87"
                                },
                                {
                                    "0": "Brandon Sanderson",
                                    "1": "Alcatraz Versus the Evil Librarians (Alcatraz, #1)",
                                    "2": "3.87"
                                },
                                {
                                    "0": "Brandon Sanderson",
                                    "1": "Legion (Legion, #1)",
                                    "2": "4.13"
                                },
                                {
                                    "0": "Brandon Sanderson",
                                    "1": "Steelheart (The Reckoners, #1)",
                                    "2": "4.16"
                                },
                                {
                                    "0": "Brandon Sanderson",
                                    "1": "Elantris (Elantris, #1)",
                                    "2": "4.17"
                                },
                                {
                                    "0": "Brandon Sanderson",
                                    "1": "The Alloy of Law (Mistborn, #4)",
                                    "2": "4.2"
                                },
                                {
                                    "0": "Brandon Sanderson",
                                    "1": "Calamity (The Reckoners, #3)",
                                    "2": "4.2"
                                },
                                {
                                    "0": "Brandon Sanderson",
                                    "1": "Warbreaker (Warbreaker, #1)",
                                    "2": "4.22"
                                },
                                {
                                    "0": "Brandon Sanderson",
                                    "1": "The Rithmatist (The Rithmatist, #1)",
                                    "2": "4.25"
                                },
                                {
                                    "0": "Brandon Sanderson",
                                    "1": "Firefight (The Reckoners, #2)",
                                    "2": "4.29"
                                },
                                {
                                    "0": "Brandon Sanderson",
                                    "1": "Shadows of Self (Mistborn, #5)",
                                    "2": "4.3"
                                },
                                {
                                    "0": "Brandon Sanderson",
                                    "1": "The Emperor's Soul",
                                    "2": "4.33"
                                },
                                {
                                    "0": "Brandon Sanderson",
                                    "1": "The Well of Ascension (Mistborn, #2)",
                                    "2": "4.35"
                                },
                                {
                                    "0": "Brandon Sanderson",
                                    "1": "Secret History (Mistborn, #3.5)",
                                    "2": "4.38"
                                },
                                {
                                    "0": "Brandon Sanderson",
                                    "1": "The Final Empire (Mistborn, #1)",
                                    "2": "4.43"
                                },
                                {
                                    "0": "Brandon Sanderson",
                                    "1": "The Bands of Mourning (Mistborn, #6)",
                                    "2": "4.45"
                                },
                                {
                                    "0": "Brandon Sanderson",
                                    "1": "The Hero of Ages (Mistborn, #3)",
                                    "2": "4.46"
                                },
                                {
                                    "0": "Brandon Sanderson",
                                    "1": "Mistborn Trilogy Boxed Set (Mistborn, #1-3)",
                                    "2": "4.55"
                                },
                                {
                                    "0": "Brandon Sanderson",
                                    "1": "The Way of Kings (The Stormlight Archive, #1)",
                                    "2": "4.64"
                                },
                                {
                                    "0": "Brandon Sanderson",
                                    "1": "The Way of Kings, Part 1 (The Stormlight Archive #1.1)",
                                    "2": "4.67"
                                },
                                {
                                    "0": "Brandon Sanderson",
                                    "1": "Words of Radiance (The Stormlight Archive, #2)",
                                    "2": "4.77"
                                },
                                {
                                    "0": "J.K. Rowling",
                                    "1": "The Casual Vacancy",
                                    "2": "3.28"
                                },
                                {
                                    "0": "J.K. Rowling",
                                    "1": "The Tales of Beedle the Bard",
                                    "2": "4.06"
                                },
                                {
                                    "0": "J.K. Rowling",
                                    "1": "Hogwarts: An Incomplete and Unreliable Guide (Pottermore Presents, #3)",
                                    "2": "4.21"
                                },
                                {
                                    "0": "J.K. Rowling",
                                    "1": "Harry Potter Schoolbooks Box Set: Two Classic Books from the Library of Hogwarts School of Witchcraft and Wizardry",
                                    "2": "4.4"
                                },
                                {
                                    "0": "J.K. Rowling",
                                    "1": "Fantastic Beasts and Where to Find Them: The Original Screenplay",
                                    "2": "4.41"
                                },
                                {
                                    "0": "J.K. Rowling",
                                    "1": "Harry Potter and the Order of the Phoenix (Harry Potter, #5, Part 1)",
                                    "2": "4.56"
                                },
                                {
                                    "0": "J.K. Rowling",
                                    "1": "Harry Potter Collection (Harry Potter, #1-6)",
                                    "2": "4.73"
                                },
                                {
                                    "0": "J.K. Rowling",
                                    "1": "Harry Potter Boxset (Harry Potter, #1-7)",
                                    "2": "4.74"
                                }
                            ]
                        },
                        "text/html": [
                            "<table>",
                            "<tr><th>authors</th><th>title</th><th>average_rating</th></tr>",
                            "<tr><td>Bill Watterson</td><td>The Calvin and Hobbes Tenth Anniversary Book</td><td>4.63</td></tr>",
                            "<tr><td>Bill Watterson</td><td>The Essential Calvin and Hobbes: A Calvin and Hobbes Treasury</td><td>4.65</td></tr>",
                            "<tr><td>Bill Watterson</td><td>The Calvin and Hobbes Lazy Sunday Book</td><td>4.66</td></tr>",
                            "<tr><td>Bill Watterson</td><td>The Days Are Just Packed: A Calvin and Hobbes Collection</td><td>4.68</td></tr>",
                            "<tr><td>Bill Watterson</td><td>Homicidal Psycho Jungle Cat: A Calvin and Hobbes Collection</td><td>4.71</td></tr>",
                            "<tr><td>Bill Watterson</td><td>The Revenge of the Baby-Sat</td><td>4.71</td></tr>",
                            "<tr><td>Bill Watterson</td><td>Attack of the Deranged Mutant Killer Monster Snow Goons</td><td>4.72</td></tr>",
                            "<tr><td>Bill Watterson</td><td>The Authoritative Calvin and Hobbes: A Calvin and Hobbes Treasury</td><td>4.73</td></tr>",
                            "<tr><td>Bill Watterson</td><td>The Indispensable Calvin and Hobbes</td><td>4.73</td></tr>",
                            "<tr><td>Bill Watterson</td><td>There's Treasure Everywhere: A Calvin and Hobbes Collection</td><td>4.74</td></tr>",
                            "<tr><td>Bill Watterson</td><td>It's a Magical World: A Calvin and Hobbes Collection</td><td>4.75</td></tr>",
                            "<tr><td>Bill Watterson</td><td>The Complete Calvin and Hobbes</td><td>4.82</td></tr>",
                            "<tr><td>Brandon Sanderson</td><td>Mitosis (The Reckoners, #1.5)</td><td>3.87</td></tr>",
                            "<tr><td>Brandon Sanderson</td><td>Alcatraz Versus the Evil Librarians (Alcatraz, #1)</td><td>3.87</td></tr>",
                            "<tr><td>Brandon Sanderson</td><td>Legion (Legion, #1)</td><td>4.13</td></tr>",
                            "<tr><td>Brandon Sanderson</td><td>Steelheart (The Reckoners, #1)</td><td>4.16</td></tr>",
                            "<tr><td>Brandon Sanderson</td><td>Elantris (Elantris, #1)</td><td>4.17</td></tr>",
                            "<tr><td>Brandon Sanderson</td><td>The Alloy of Law (Mistborn, #4)</td><td>4.2</td></tr>",
                            "<tr><td>Brandon Sanderson</td><td>Calamity (The Reckoners, #3)</td><td>4.2</td></tr>",
                            "<tr><td>Brandon Sanderson</td><td>Warbreaker (Warbreaker, #1)</td><td>4.22</td></tr>",
                            "<tr><td>Brandon Sanderson</td><td>The Rithmatist (The Rithmatist, #1)</td><td>4.25</td></tr>",
                            "<tr><td>Brandon Sanderson</td><td>Firefight (The Reckoners, #2)</td><td>4.29</td></tr>",
                            "<tr><td>Brandon Sanderson</td><td>Shadows of Self (Mistborn, #5)</td><td>4.3</td></tr>",
                            "<tr><td>Brandon Sanderson</td><td>The Emperor's Soul</td><td>4.33</td></tr>",
                            "<tr><td>Brandon Sanderson</td><td>The Well of Ascension (Mistborn, #2)</td><td>4.35</td></tr>",
                            "<tr><td>Brandon Sanderson</td><td>Secret History (Mistborn, #3.5)</td><td>4.38</td></tr>",
                            "<tr><td>Brandon Sanderson</td><td>The Final Empire (Mistborn, #1)</td><td>4.43</td></tr>",
                            "<tr><td>Brandon Sanderson</td><td>The Bands of Mourning (Mistborn, #6)</td><td>4.45</td></tr>",
                            "<tr><td>Brandon Sanderson</td><td>The Hero of Ages (Mistborn, #3)</td><td>4.46</td></tr>",
                            "<tr><td>Brandon Sanderson</td><td>Mistborn Trilogy Boxed Set (Mistborn, #1-3)</td><td>4.55</td></tr>",
                            "<tr><td>Brandon Sanderson</td><td>The Way of Kings (The Stormlight Archive, #1)</td><td>4.64</td></tr>",
                            "<tr><td>Brandon Sanderson</td><td>The Way of Kings, Part 1 (The Stormlight Archive #1.1)</td><td>4.67</td></tr>",
                            "<tr><td>Brandon Sanderson</td><td>Words of Radiance (The Stormlight Archive, #2)</td><td>4.77</td></tr>",
                            "<tr><td>J.K. Rowling</td><td>The Casual Vacancy</td><td>3.28</td></tr>",
                            "<tr><td>J.K. Rowling</td><td>The Tales of Beedle the Bard</td><td>4.06</td></tr>",
                            "<tr><td>J.K. Rowling</td><td>Hogwarts: An Incomplete and Unreliable Guide (Pottermore Presents, #3)</td><td>4.21</td></tr>",
                            "<tr><td>J.K. Rowling</td><td>Harry Potter Schoolbooks Box Set: Two Classic Books from the Library of Hogwarts School of Witchcraft and Wizardry</td><td>4.4</td></tr>",
                            "<tr><td>J.K. Rowling</td><td>Fantastic Beasts and Where to Find Them: The Original Screenplay</td><td>4.41</td></tr>",
                            "<tr><td>J.K. Rowling</td><td>Harry Potter and the Order of the Phoenix (Harry Potter, #5, Part 1)</td><td>4.56</td></tr>",
                            "<tr><td>J.K. Rowling</td><td>Harry Potter Collection (Harry Potter, #1-6)</td><td>4.73</td></tr>",
                            "<tr><td>J.K. Rowling</td><td>Harry Potter Boxset (Harry Potter, #1-7)</td><td>4.74</td></tr>",
                            "</table>"
                        ]
                    }
                }
            ],
            "execution_count": 84
        },
        {
            "cell_type": "markdown",
            "source": [
                "Question 8: Take a close look at J.K. Rowling.  Is her top rated book on this list from question 1?  Why might this be? How could we account for this?\n",
                "\n",
                "> It may be missing because it had two authors listed. We could use Wildcard to any author containing J.K. Rowling within it."
            ],
            "metadata": {
                "azdata_cell_guid": "db907c70-0bbd-4121-ac91-ae814f703243"
            },
            "attachments": {}
        },
        {
            "cell_type": "markdown",
            "source": [
                "Try updating your above query to include all of J.K. Rowling's books.\n",
                "\n",
                "Are there any other issues?\n",
                "\n",
                "> It includes the other authors name as well."
            ],
            "metadata": {
                "azdata_cell_guid": "35ee4a48-8e84-4eb5-95ca-f5cdddc8d682"
            },
            "attachments": {}
        },
        {
            "cell_type": "code",
            "source": [
                "-- Try updating your above query to include all of J.K. Rowling's books\n",
                "SELECT authors, title, average_rating\n",
                "FROM BooksDB.dbo.books\n",
                "WHERE (authors LIKE 'Bill Watterson' OR authors LIKE 'Brandon Sanderson' OR authors LIKE '%J.K. Rowling%')\n",
                "ORDER BY authors, average_rating ASC"
            ],
            "metadata": {
                "azdata_cell_guid": "ce489012-fce9-435c-b570-7734223a0678",
                "tags": [],
                "language": "sql"
            },
            "outputs": [
                {
                    "output_type": "display_data",
                    "data": {
                        "text/html": "(60 rows affected)"
                    },
                    "metadata": {}
                },
                {
                    "output_type": "display_data",
                    "data": {
                        "text/html": "Total execution time: 00:00:00.085"
                    },
                    "metadata": {}
                },
                {
                    "output_type": "execute_result",
                    "metadata": {},
                    "execution_count": 95,
                    "data": {
                        "application/vnd.dataresource+json": {
                            "schema": {
                                "fields": [
                                    {
                                        "name": "authors"
                                    },
                                    {
                                        "name": "title"
                                    },
                                    {
                                        "name": "average_rating"
                                    }
                                ]
                            },
                            "data": [
                                {
                                    "0": "Bill Watterson",
                                    "1": "The Calvin and Hobbes Tenth Anniversary Book",
                                    "2": "4.63"
                                },
                                {
                                    "0": "Bill Watterson",
                                    "1": "The Essential Calvin and Hobbes: A Calvin and Hobbes Treasury",
                                    "2": "4.65"
                                },
                                {
                                    "0": "Bill Watterson",
                                    "1": "The Calvin and Hobbes Lazy Sunday Book",
                                    "2": "4.66"
                                },
                                {
                                    "0": "Bill Watterson",
                                    "1": "The Days Are Just Packed: A Calvin and Hobbes Collection",
                                    "2": "4.68"
                                },
                                {
                                    "0": "Bill Watterson",
                                    "1": "Homicidal Psycho Jungle Cat: A Calvin and Hobbes Collection",
                                    "2": "4.71"
                                },
                                {
                                    "0": "Bill Watterson",
                                    "1": "The Revenge of the Baby-Sat",
                                    "2": "4.71"
                                },
                                {
                                    "0": "Bill Watterson",
                                    "1": "Attack of the Deranged Mutant Killer Monster Snow Goons",
                                    "2": "4.72"
                                },
                                {
                                    "0": "Bill Watterson",
                                    "1": "The Authoritative Calvin and Hobbes: A Calvin and Hobbes Treasury",
                                    "2": "4.73"
                                },
                                {
                                    "0": "Bill Watterson",
                                    "1": "The Indispensable Calvin and Hobbes",
                                    "2": "4.73"
                                },
                                {
                                    "0": "Bill Watterson",
                                    "1": "There's Treasure Everywhere: A Calvin and Hobbes Collection",
                                    "2": "4.74"
                                },
                                {
                                    "0": "Bill Watterson",
                                    "1": "It's a Magical World: A Calvin and Hobbes Collection",
                                    "2": "4.75"
                                },
                                {
                                    "0": "Bill Watterson",
                                    "1": "The Complete Calvin and Hobbes",
                                    "2": "4.82"
                                },
                                {
                                    "0": "Brandon Sanderson",
                                    "1": "Mitosis (The Reckoners, #1.5)",
                                    "2": "3.87"
                                },
                                {
                                    "0": "Brandon Sanderson",
                                    "1": "Alcatraz Versus the Evil Librarians (Alcatraz, #1)",
                                    "2": "3.87"
                                },
                                {
                                    "0": "Brandon Sanderson",
                                    "1": "Legion (Legion, #1)",
                                    "2": "4.13"
                                },
                                {
                                    "0": "Brandon Sanderson",
                                    "1": "Steelheart (The Reckoners, #1)",
                                    "2": "4.16"
                                },
                                {
                                    "0": "Brandon Sanderson",
                                    "1": "Elantris (Elantris, #1)",
                                    "2": "4.17"
                                },
                                {
                                    "0": "Brandon Sanderson",
                                    "1": "The Alloy of Law (Mistborn, #4)",
                                    "2": "4.2"
                                },
                                {
                                    "0": "Brandon Sanderson",
                                    "1": "Calamity (The Reckoners, #3)",
                                    "2": "4.2"
                                },
                                {
                                    "0": "Brandon Sanderson",
                                    "1": "Warbreaker (Warbreaker, #1)",
                                    "2": "4.22"
                                },
                                {
                                    "0": "Brandon Sanderson",
                                    "1": "The Rithmatist (The Rithmatist, #1)",
                                    "2": "4.25"
                                },
                                {
                                    "0": "Brandon Sanderson",
                                    "1": "Firefight (The Reckoners, #2)",
                                    "2": "4.29"
                                },
                                {
                                    "0": "Brandon Sanderson",
                                    "1": "Shadows of Self (Mistborn, #5)",
                                    "2": "4.3"
                                },
                                {
                                    "0": "Brandon Sanderson",
                                    "1": "The Emperor's Soul",
                                    "2": "4.33"
                                },
                                {
                                    "0": "Brandon Sanderson",
                                    "1": "The Well of Ascension (Mistborn, #2)",
                                    "2": "4.35"
                                },
                                {
                                    "0": "Brandon Sanderson",
                                    "1": "Secret History (Mistborn, #3.5)",
                                    "2": "4.38"
                                },
                                {
                                    "0": "Brandon Sanderson",
                                    "1": "The Final Empire (Mistborn, #1)",
                                    "2": "4.43"
                                },
                                {
                                    "0": "Brandon Sanderson",
                                    "1": "The Bands of Mourning (Mistborn, #6)",
                                    "2": "4.45"
                                },
                                {
                                    "0": "Brandon Sanderson",
                                    "1": "The Hero of Ages (Mistborn, #3)",
                                    "2": "4.46"
                                },
                                {
                                    "0": "Brandon Sanderson",
                                    "1": "Mistborn Trilogy Boxed Set (Mistborn, #1-3)",
                                    "2": "4.55"
                                },
                                {
                                    "0": "Brandon Sanderson",
                                    "1": "The Way of Kings (The Stormlight Archive, #1)",
                                    "2": "4.64"
                                },
                                {
                                    "0": "Brandon Sanderson",
                                    "1": "The Way of Kings, Part 1 (The Stormlight Archive #1.1)",
                                    "2": "4.67"
                                },
                                {
                                    "0": "Brandon Sanderson",
                                    "1": "Words of Radiance (The Stormlight Archive, #2)",
                                    "2": "4.77"
                                },
                                {
                                    "0": "J.K. Rowling",
                                    "1": "The Casual Vacancy",
                                    "2": "3.28"
                                },
                                {
                                    "0": "J.K. Rowling",
                                    "1": "The Tales of Beedle the Bard",
                                    "2": "4.06"
                                },
                                {
                                    "0": "J.K. Rowling",
                                    "1": "Hogwarts: An Incomplete and Unreliable Guide (Pottermore Presents, #3)",
                                    "2": "4.21"
                                },
                                {
                                    "0": "J.K. Rowling",
                                    "1": "Harry Potter Schoolbooks Box Set: Two Classic Books from the Library of Hogwarts School of Witchcraft and Wizardry",
                                    "2": "4.4"
                                },
                                {
                                    "0": "J.K. Rowling",
                                    "1": "Fantastic Beasts and Where to Find Them: The Original Screenplay",
                                    "2": "4.41"
                                },
                                {
                                    "0": "J.K. Rowling",
                                    "1": "Harry Potter and the Order of the Phoenix (Harry Potter, #5, Part 1)",
                                    "2": "4.56"
                                },
                                {
                                    "0": "J.K. Rowling",
                                    "1": "Harry Potter Collection (Harry Potter, #1-6)",
                                    "2": "4.73"
                                },
                                {
                                    "0": "J.K. Rowling",
                                    "1": "Harry Potter Boxset (Harry Potter, #1-7)",
                                    "2": "4.74"
                                },
                                {
                                    "0": "J.K. Rowling, Joel Holland",
                                    "1": "Very Good Lives: The Fringe Benefits of Failure and the Importance of Imagination",
                                    "2": "4.26"
                                },
                                {
                                    "0": "J.K. Rowling, Mary GrandPré",
                                    "1": "Harry Potter and the Chamber of Secrets (Harry Potter, #2)",
                                    "2": "4.37"
                                },
                                {
                                    "0": "J.K. Rowling, Mary GrandPré",
                                    "1": "Harry Potter and the Sorcerer's Stone (Harry Potter, #1)",
                                    "2": "4.44"
                                },
                                {
                                    "0": "J.K. Rowling, Mary GrandPré",
                                    "1": "Harry Potter and the Order of the Phoenix (Harry Potter, #5)",
                                    "2": "4.46"
                                },
                                {
                                    "0": "J.K. Rowling, Mary GrandPré",
                                    "1": "Harry Potter and the Goblet of Fire (Harry Potter, #4)",
                                    "2": "4.53"
                                },
                                {
                                    "0": "J.K. Rowling, Mary GrandPré",
                                    "1": "Harry Potter and the Half-Blood Prince (Harry Potter, #6)",
                                    "2": "4.54"
                                },
                                {
                                    "0": "J.K. Rowling, Mary GrandPré",
                                    "1": "Harry Potter and the Deathly Hallows (Harry Potter, #7)",
                                    "2": "4.61"
                                },
                                {
                                    "0": "J.K. Rowling, Mary GrandPré",
                                    "1": "The Harry Potter Collection 1-4 (Harry Potter, #1-4)",
                                    "2": "4.66"
                                },
                                {
                                    "0": "J.K. Rowling, Mary GrandPré",
                                    "1": "Harry Potter Boxed Set, Books 1-5 (Harry Potter, #1-5)",
                                    "2": "4.77"
                                },
                                {
                                    "0": "J.K. Rowling, Mary GrandPré, Rufus Beck",
                                    "1": "Harry Potter and the Prisoner of Azkaban (Harry Potter, #3)",
                                    "2": "4.53"
                                },
                                {
                                    "0": "J.K. Rowling, MinaLima",
                                    "1": "Short Stories from Hogwarts of Power, Politics and Pesky Poltergeists (Pottermore Presents, #2)",
                                    "2": "4.2"
                                },
                                {
                                    "0": "J.K. Rowling, MinaLima",
                                    "1": "Short Stories from Hogwarts of Heroism, Hardship and Dangerous Hobbies (Pottermore Presents, #1)",
                                    "2": "4.22"
                                },
                                {
                                    "0": "John Tiffany, Jack Thorne, J.K. Rowling",
                                    "1": "Harry Potter and the Cursed Child - Parts One and Two (Harry Potter, #8)",
                                    "2": "3.75"
                                },
                                {
                                    "0": "Kennilworthy Whisp, J.K. Rowling",
                                    "1": "Quidditch Through the Ages",
                                    "2": "3.85"
                                },
                                {
                                    "0": "Melissa Anelli, J.K. Rowling",
                                    "1": "Harry, a History: The True Story of a Boy Wizard, His Fans, and Life Inside the Harry Potter Phenomenon",
                                    "2": "4.09"
                                },
                                {
                                    "0": "Newt Scamander, J.K. Rowling, Albus Dumbledore",
                                    "1": "Fantastic Beasts and Where to Find Them",
                                    "2": "3.95"
                                },
                                {
                                    "0": "Robert Galbraith, J.K. Rowling",
                                    "1": "The Cuckoo's Calling (Cormoran Strike, #1)",
                                    "2": "3.83"
                                },
                                {
                                    "0": "Robert Galbraith, J.K. Rowling",
                                    "1": "The Silkworm (Cormoran Strike, #2)",
                                    "2": "4.03"
                                },
                                {
                                    "0": "Robert Galbraith, J.K. Rowling",
                                    "1": "Career of Evil (Cormoran Strike, #3)",
                                    "2": "4.21"
                                }
                            ]
                        },
                        "text/html": [
                            "<table>",
                            "<tr><th>authors</th><th>title</th><th>average_rating</th></tr>",
                            "<tr><td>Bill Watterson</td><td>The Calvin and Hobbes Tenth Anniversary Book</td><td>4.63</td></tr>",
                            "<tr><td>Bill Watterson</td><td>The Essential Calvin and Hobbes: A Calvin and Hobbes Treasury</td><td>4.65</td></tr>",
                            "<tr><td>Bill Watterson</td><td>The Calvin and Hobbes Lazy Sunday Book</td><td>4.66</td></tr>",
                            "<tr><td>Bill Watterson</td><td>The Days Are Just Packed: A Calvin and Hobbes Collection</td><td>4.68</td></tr>",
                            "<tr><td>Bill Watterson</td><td>Homicidal Psycho Jungle Cat: A Calvin and Hobbes Collection</td><td>4.71</td></tr>",
                            "<tr><td>Bill Watterson</td><td>The Revenge of the Baby-Sat</td><td>4.71</td></tr>",
                            "<tr><td>Bill Watterson</td><td>Attack of the Deranged Mutant Killer Monster Snow Goons</td><td>4.72</td></tr>",
                            "<tr><td>Bill Watterson</td><td>The Authoritative Calvin and Hobbes: A Calvin and Hobbes Treasury</td><td>4.73</td></tr>",
                            "<tr><td>Bill Watterson</td><td>The Indispensable Calvin and Hobbes</td><td>4.73</td></tr>",
                            "<tr><td>Bill Watterson</td><td>There's Treasure Everywhere: A Calvin and Hobbes Collection</td><td>4.74</td></tr>",
                            "<tr><td>Bill Watterson</td><td>It's a Magical World: A Calvin and Hobbes Collection</td><td>4.75</td></tr>",
                            "<tr><td>Bill Watterson</td><td>The Complete Calvin and Hobbes</td><td>4.82</td></tr>",
                            "<tr><td>Brandon Sanderson</td><td>Mitosis (The Reckoners, #1.5)</td><td>3.87</td></tr>",
                            "<tr><td>Brandon Sanderson</td><td>Alcatraz Versus the Evil Librarians (Alcatraz, #1)</td><td>3.87</td></tr>",
                            "<tr><td>Brandon Sanderson</td><td>Legion (Legion, #1)</td><td>4.13</td></tr>",
                            "<tr><td>Brandon Sanderson</td><td>Steelheart (The Reckoners, #1)</td><td>4.16</td></tr>",
                            "<tr><td>Brandon Sanderson</td><td>Elantris (Elantris, #1)</td><td>4.17</td></tr>",
                            "<tr><td>Brandon Sanderson</td><td>The Alloy of Law (Mistborn, #4)</td><td>4.2</td></tr>",
                            "<tr><td>Brandon Sanderson</td><td>Calamity (The Reckoners, #3)</td><td>4.2</td></tr>",
                            "<tr><td>Brandon Sanderson</td><td>Warbreaker (Warbreaker, #1)</td><td>4.22</td></tr>",
                            "<tr><td>Brandon Sanderson</td><td>The Rithmatist (The Rithmatist, #1)</td><td>4.25</td></tr>",
                            "<tr><td>Brandon Sanderson</td><td>Firefight (The Reckoners, #2)</td><td>4.29</td></tr>",
                            "<tr><td>Brandon Sanderson</td><td>Shadows of Self (Mistborn, #5)</td><td>4.3</td></tr>",
                            "<tr><td>Brandon Sanderson</td><td>The Emperor's Soul</td><td>4.33</td></tr>",
                            "<tr><td>Brandon Sanderson</td><td>The Well of Ascension (Mistborn, #2)</td><td>4.35</td></tr>",
                            "<tr><td>Brandon Sanderson</td><td>Secret History (Mistborn, #3.5)</td><td>4.38</td></tr>",
                            "<tr><td>Brandon Sanderson</td><td>The Final Empire (Mistborn, #1)</td><td>4.43</td></tr>",
                            "<tr><td>Brandon Sanderson</td><td>The Bands of Mourning (Mistborn, #6)</td><td>4.45</td></tr>",
                            "<tr><td>Brandon Sanderson</td><td>The Hero of Ages (Mistborn, #3)</td><td>4.46</td></tr>",
                            "<tr><td>Brandon Sanderson</td><td>Mistborn Trilogy Boxed Set (Mistborn, #1-3)</td><td>4.55</td></tr>",
                            "<tr><td>Brandon Sanderson</td><td>The Way of Kings (The Stormlight Archive, #1)</td><td>4.64</td></tr>",
                            "<tr><td>Brandon Sanderson</td><td>The Way of Kings, Part 1 (The Stormlight Archive #1.1)</td><td>4.67</td></tr>",
                            "<tr><td>Brandon Sanderson</td><td>Words of Radiance (The Stormlight Archive, #2)</td><td>4.77</td></tr>",
                            "<tr><td>J.K. Rowling</td><td>The Casual Vacancy</td><td>3.28</td></tr>",
                            "<tr><td>J.K. Rowling</td><td>The Tales of Beedle the Bard</td><td>4.06</td></tr>",
                            "<tr><td>J.K. Rowling</td><td>Hogwarts: An Incomplete and Unreliable Guide (Pottermore Presents, #3)</td><td>4.21</td></tr>",
                            "<tr><td>J.K. Rowling</td><td>Harry Potter Schoolbooks Box Set: Two Classic Books from the Library of Hogwarts School of Witchcraft and Wizardry</td><td>4.4</td></tr>",
                            "<tr><td>J.K. Rowling</td><td>Fantastic Beasts and Where to Find Them: The Original Screenplay</td><td>4.41</td></tr>",
                            "<tr><td>J.K. Rowling</td><td>Harry Potter and the Order of the Phoenix (Harry Potter, #5, Part 1)</td><td>4.56</td></tr>",
                            "<tr><td>J.K. Rowling</td><td>Harry Potter Collection (Harry Potter, #1-6)</td><td>4.73</td></tr>",
                            "<tr><td>J.K. Rowling</td><td>Harry Potter Boxset (Harry Potter, #1-7)</td><td>4.74</td></tr>",
                            "<tr><td>J.K. Rowling, Joel Holland</td><td>Very Good Lives: The Fringe Benefits of Failure and the Importance of Imagination</td><td>4.26</td></tr>",
                            "<tr><td>J.K. Rowling, Mary GrandPré</td><td>Harry Potter and the Chamber of Secrets (Harry Potter, #2)</td><td>4.37</td></tr>",
                            "<tr><td>J.K. Rowling, Mary GrandPré</td><td>Harry Potter and the Sorcerer's Stone (Harry Potter, #1)</td><td>4.44</td></tr>",
                            "<tr><td>J.K. Rowling, Mary GrandPré</td><td>Harry Potter and the Order of the Phoenix (Harry Potter, #5)</td><td>4.46</td></tr>",
                            "<tr><td>J.K. Rowling, Mary GrandPré</td><td>Harry Potter and the Goblet of Fire (Harry Potter, #4)</td><td>4.53</td></tr>",
                            "<tr><td>J.K. Rowling, Mary GrandPré</td><td>Harry Potter and the Half-Blood Prince (Harry Potter, #6)</td><td>4.54</td></tr>",
                            "<tr><td>J.K. Rowling, Mary GrandPré</td><td>Harry Potter and the Deathly Hallows (Harry Potter, #7)</td><td>4.61</td></tr>",
                            "<tr><td>J.K. Rowling, Mary GrandPré</td><td>The Harry Potter Collection 1-4 (Harry Potter, #1-4)</td><td>4.66</td></tr>",
                            "<tr><td>J.K. Rowling, Mary GrandPré</td><td>Harry Potter Boxed Set, Books 1-5 (Harry Potter, #1-5)</td><td>4.77</td></tr>",
                            "<tr><td>J.K. Rowling, Mary GrandPré, Rufus Beck</td><td>Harry Potter and the Prisoner of Azkaban (Harry Potter, #3)</td><td>4.53</td></tr>",
                            "<tr><td>J.K. Rowling, MinaLima</td><td>Short Stories from Hogwarts of Power, Politics and Pesky Poltergeists (Pottermore Presents, #2)</td><td>4.2</td></tr>",
                            "<tr><td>J.K. Rowling, MinaLima</td><td>Short Stories from Hogwarts of Heroism, Hardship and Dangerous Hobbies (Pottermore Presents, #1)</td><td>4.22</td></tr>",
                            "<tr><td>John Tiffany, Jack Thorne, J.K. Rowling</td><td>Harry Potter and the Cursed Child - Parts One and Two (Harry Potter, #8)</td><td>3.75</td></tr>",
                            "<tr><td>Kennilworthy Whisp, J.K. Rowling</td><td>Quidditch Through the Ages</td><td>3.85</td></tr>",
                            "<tr><td>Melissa Anelli, J.K. Rowling</td><td>Harry, a History: The True Story of a Boy Wizard, His Fans, and Life Inside the Harry Potter Phenomenon</td><td>4.09</td></tr>",
                            "<tr><td>Newt Scamander, J.K. Rowling, Albus Dumbledore</td><td>Fantastic Beasts and Where to Find Them</td><td>3.95</td></tr>",
                            "<tr><td>Robert Galbraith, J.K. Rowling</td><td>The Cuckoo's Calling (Cormoran Strike, #1)</td><td>3.83</td></tr>",
                            "<tr><td>Robert Galbraith, J.K. Rowling</td><td>The Silkworm (Cormoran Strike, #2)</td><td>4.03</td></tr>",
                            "<tr><td>Robert Galbraith, J.K. Rowling</td><td>Career of Evil (Cormoran Strike, #3)</td><td>4.21</td></tr>",
                            "</table>"
                        ]
                    }
                }
            ],
            "execution_count": 95
        },
        {
            "cell_type": "markdown",
            "source": [
                "Question 9: Write a query that returns the number of Authors whose first name is between rock and roll."
            ],
            "metadata": {
                "azdata_cell_guid": "75bf5054-4918-4e9e-8e03-24a38ffab9cc"
            },
            "attachments": {}
        },
        {
            "cell_type": "code",
            "source": [
                "-- return number of authors whose first name is between rock and roll\n",
                "SELECT COUNT(SUBSTRING(authors, 1, CHARINDEX(' ', authors) - 1))AS 'First Names Between ROCK and ROLL'\n",
                "FROM BooksDB.dbo.books\n",
                "WHERE authors BETWEEN 'rock' AND 'roll'"
            ],
            "metadata": {
                "azdata_cell_guid": "491b2492-95d4-4078-b319-386b0c5592ec",
                "language": "sql",
                "tags": []
            },
            "outputs": [
                {
                    "output_type": "display_data",
                    "data": {
                        "text/html": "(1 row affected)"
                    },
                    "metadata": {}
                },
                {
                    "output_type": "display_data",
                    "data": {
                        "text/html": "Total execution time: 00:00:00.071"
                    },
                    "metadata": {}
                },
                {
                    "output_type": "execute_result",
                    "metadata": {},
                    "execution_count": 130,
                    "data": {
                        "application/vnd.dataresource+json": {
                            "schema": {
                                "fields": [
                                    {
                                        "name": "First Names Between ROCK and ROLL"
                                    }
                                ]
                            },
                            "data": [
                                {
                                    "0": "25"
                                }
                            ]
                        },
                        "text/html": [
                            "<table>",
                            "<tr><th>First Names Between ROCK and ROLL</th></tr>",
                            "<tr><td>25</td></tr>",
                            "</table>"
                        ]
                    }
                }
            ],
            "execution_count": 130
        },
        {
            "cell_type": "markdown",
            "source": [
                "## Part 2. Write your own question and write a query to answer it.\n",
                "\n",
                "Your Question: What author names use initials?"
            ],
            "metadata": {
                "azdata_cell_guid": "1ba1363a-4f02-4962-a95a-93b80c5926b1"
            },
            "attachments": {}
        },
        {
            "cell_type": "code",
            "source": [
                "-- Add your querry here\n",
                "SELECT TOP 10 (authors)\n",
                "FROM BooksDB.dbo.books\n",
                "WHERE authors LIKE '%.%'"
            ],
            "metadata": {
                "azdata_cell_guid": "607f1a61-b306-42bf-a20c-60ec3a6ba86a",
                "language": "sql"
            },
            "outputs": [
                {
                    "output_type": "display_data",
                    "data": {
                        "text/html": "(10 rows affected)"
                    },
                    "metadata": {}
                },
                {
                    "output_type": "display_data",
                    "data": {
                        "text/html": "Total execution time: 00:00:00.052"
                    },
                    "metadata": {}
                },
                {
                    "output_type": "execute_result",
                    "metadata": {},
                    "execution_count": 144,
                    "data": {
                        "application/vnd.dataresource+json": {
                            "schema": {
                                "fields": [
                                    {
                                        "name": "authors"
                                    }
                                ]
                            },
                            "data": [
                                {
                                    "0": "J.K. Rowling, Mary GrandPré"
                                },
                                {
                                    "0": "F. Scott Fitzgerald"
                                },
                                {
                                    "0": "J.R.R. Tolkien"
                                },
                                {
                                    "0": "J.D. Salinger"
                                },
                                {
                                    "0": "Anne Frank, Eleanor Roosevelt, B.M. Mooyaart-Doubleday"
                                },
                                {
                                    "0": "J.K. Rowling, Mary GrandPré, Rufus Beck"
                                },
                                {
                                    "0": "J.R.R. Tolkien"
                                },
                                {
                                    "0": "J.K. Rowling, Mary GrandPré"
                                },
                                {
                                    "0": "J.K. Rowling, Mary GrandPré"
                                },
                                {
                                    "0": "J.K. Rowling, Mary GrandPré"
                                }
                            ]
                        },
                        "text/html": [
                            "<table>",
                            "<tr><th>authors</th></tr>",
                            "<tr><td>J.K. Rowling, Mary GrandPré</td></tr>",
                            "<tr><td>F. Scott Fitzgerald</td></tr>",
                            "<tr><td>J.R.R. Tolkien</td></tr>",
                            "<tr><td>J.D. Salinger</td></tr>",
                            "<tr><td>Anne Frank, Eleanor Roosevelt, B.M. Mooyaart-Doubleday</td></tr>",
                            "<tr><td>J.K. Rowling, Mary GrandPré, Rufus Beck</td></tr>",
                            "<tr><td>J.R.R. Tolkien</td></tr>",
                            "<tr><td>J.K. Rowling, Mary GrandPré</td></tr>",
                            "<tr><td>J.K. Rowling, Mary GrandPré</td></tr>",
                            "<tr><td>J.K. Rowling, Mary GrandPré</td></tr>",
                            "</table>"
                        ]
                    }
                }
            ],
            "execution_count": 144
        },
        {
            "cell_type": "markdown",
            "source": [
                "**Some Question Examples:**\n",
                "\n",
                "Write a query that returns the longest title?\n",
                "\n",
                "Which Author has written the most books?  \n",
                "\n",
                "Top  ten books written the year I was born?"
            ],
            "metadata": {
                "azdata_cell_guid": "7160362b-7127-4123-bd1d-95a94ae38a07"
            }
        }
    ]
}